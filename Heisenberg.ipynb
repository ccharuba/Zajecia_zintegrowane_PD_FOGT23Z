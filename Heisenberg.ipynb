{
  "nbformat": 4,
  "nbformat_minor": 0,
  "metadata": {
    "colab": {
      "provenance": []
    },
    "kernelspec": {
      "name": "python3",
      "display_name": "Python 3"
    },
    "language_info": {
      "name": "python"
    }
  },
  "cells": [
    {
      "cell_type": "markdown",
      "source": [
        "# Problem do rozwiązania"
      ],
      "metadata": {
        "id": "M4A7XOC_vBVn"
      }
    },
    {
      "cell_type": "markdown",
      "source": [
        "$$\\sigma_X^2=<x^2>-<x>^2$$\n"
      ],
      "metadata": {
        "id": "ibbIH20HviWC"
      }
    },
    {
      "cell_type": "markdown",
      "source": [
        "$$<p>=?$$\n",
        "$$<p^2>=?$$\n",
        "$$\\sigma_P^2=?$$\n",
        "\n",
        "$$\\sigma_X \\sigma_P \\geq \\frac{\\hbar}{2}$$\n",
        "\n",
        "Sprawdzić, czy ta zasada nieoznaczoności jest faktycznie dla tej studni potencjału spełniona."
      ],
      "metadata": {
        "id": "-H_A34KIvp1Y"
      }
    },
    {
      "cell_type": "markdown",
      "source": [
        "# Rozwiązanie"
      ],
      "metadata": {
        "id": "GL4CfYq1vwRK"
      }
    },
    {
      "cell_type": "markdown",
      "source": [
        "Zmienne i równania zdefiniowane w rozważaniach pierwszych i drugich zajęć zintegrowanych"
      ],
      "metadata": {
        "id": "cfiT_mSgwMj6"
      }
    },
    {
      "cell_type": "code",
      "source": [
        "import sympy as sp\n",
        "import numpy as np\n",
        "sp.init_printing()\n",
        "x = sp.Symbol('x', real=True)\n",
        "h = sp.Symbol('hbar', real=True, positive=True)\n",
        "n = sp.Symbol('n', integer=True, nonzero=True)\n",
        "a = sp.Symbol('a', real=True)\n",
        "i = sp.Symbol('i', imaginary=True)\n",
        "k = sp.Symbol('k', real=True, positive=True)\n",
        "psi = sp.Function('psi')\n",
        "x, h, n, a, i, k, psi(x)"
      ],
      "metadata": {
        "colab": {
          "base_uri": "https://localhost:8080/",
          "height": 39
        },
        "id": "_cGmfR4qwV7G",
        "outputId": "b1549dee-d794-40c9-ca99-05ee73ecf04d"
      },
      "execution_count": 26,
      "outputs": [
        {
          "output_type": "execute_result",
          "data": {
            "text/plain": [
              "(x, h̅, n, a, i, k, ψ(x))"
            ],
            "text/latex": "$\\displaystyle \\left( x, \\  \\hbar, \\  n, \\  a, \\  i, \\  k, \\  \\psi{\\left(x \\right)}\\right)$"
          },
          "metadata": {},
          "execution_count": 26
        }
      ]
    },
    {
      "cell_type": "markdown",
      "source": [
        "$$\\frac{d^2\\psi(x)}{dx^2} = -k^2\\psi(x)$$"
      ],
      "metadata": {
        "id": "ADXm6bTuy9nL"
      }
    },
    {
      "cell_type": "code",
      "source": [
        "psi(x).diff(x, x)\n",
        "-k**2 * psi(x)\n",
        "eq = sp.Eq(psi(x).diff(x, x), -k**2 * psi(x))\n",
        "eq"
      ],
      "metadata": {
        "colab": {
          "base_uri": "https://localhost:8080/",
          "height": 54
        },
        "id": "m2PSCSi7zASd",
        "outputId": "e4a4581e-e1dc-4103-ca0a-6793556eff54"
      },
      "execution_count": 8,
      "outputs": [
        {
          "output_type": "execute_result",
          "data": {
            "text/plain": [
              "  2                 \n",
              " d            2     \n",
              "───(ψ(x)) = -k ⋅ψ(x)\n",
              "  2                 \n",
              "dx                  "
            ],
            "text/latex": "$\\displaystyle \\frac{d^{2}}{d x^{2}} \\psi{\\left(x \\right)} = - k^{2} \\psi{\\left(x \\right)}$"
          },
          "metadata": {},
          "execution_count": 8
        }
      ]
    },
    {
      "cell_type": "code",
      "source": [
        "sp.dsolve(eq, psi(x))\n",
        "sol = sp.dsolve(eq, psi(x), ics={psi(0): 0})\n",
        "sol"
      ],
      "metadata": {
        "id": "AUuEAGRsyxU_",
        "colab": {
          "base_uri": "https://localhost:8080/",
          "height": 39
        },
        "outputId": "57bd09e1-3dea-4185-d881-1af16773c8ea"
      },
      "execution_count": 9,
      "outputs": [
        {
          "output_type": "execute_result",
          "data": {
            "text/plain": [
              "ψ(x) = C₁⋅sin(k⋅x)"
            ],
            "text/latex": "$\\displaystyle \\psi{\\left(x \\right)} = C_{1} \\sin{\\left(k x \\right)}$"
          },
          "metadata": {},
          "execution_count": 9
        }
      ]
    },
    {
      "cell_type": "code",
      "source": [
        "sol = sol.subs(k, n * sp.pi / a)\n",
        "sol"
      ],
      "metadata": {
        "colab": {
          "base_uri": "https://localhost:8080/",
          "height": 48
        },
        "id": "JQNaAwaKzrbE",
        "outputId": "5262d8ae-afb9-40a2-9a11-b97942ed6940"
      },
      "execution_count": 10,
      "outputs": [
        {
          "output_type": "execute_result",
          "data": {
            "text/plain": [
              "             ⎛π⋅n⋅x⎞\n",
              "ψ(x) = C₁⋅sin⎜─────⎟\n",
              "             ⎝  a  ⎠"
            ],
            "text/latex": "$\\displaystyle \\psi{\\left(x \\right)} = C_{1} \\sin{\\left(\\frac{\\pi n x}{a} \\right)}$"
          },
          "metadata": {},
          "execution_count": 10
        }
      ]
    },
    {
      "cell_type": "code",
      "source": [
        "sp.Abs(sol.rhs)**2\n",
        "sp.integrate(sol.rhs**2, (x, 0, a))\n",
        "sol = sol.subs(sp.Symbol('C1'), sp.sqrt(2 / a))\n",
        "sol"
      ],
      "metadata": {
        "colab": {
          "base_uri": "https://localhost:8080/",
          "height": 58
        },
        "id": "4PkA7RfFzyGB",
        "outputId": "fbf5dab1-c4fd-4cdd-cd50-6581e6c2f2f0"
      },
      "execution_count": 11,
      "outputs": [
        {
          "output_type": "execute_result",
          "data": {
            "text/plain": [
              "              ___           \n",
              "             ╱ 1     ⎛π⋅n⋅x⎞\n",
              "ψ(x) = √2⋅  ╱  ─ ⋅sin⎜─────⎟\n",
              "          ╲╱   a     ⎝  a  ⎠"
            ],
            "text/latex": "$\\displaystyle \\psi{\\left(x \\right)} = \\sqrt{2} \\sqrt{\\frac{1}{a}} \\sin{\\left(\\frac{\\pi n x}{a} \\right)}$"
          },
          "metadata": {},
          "execution_count": 11
        }
      ]
    },
    {
      "cell_type": "markdown",
      "source": [
        "**Odchylenie standardowe położenia**"
      ],
      "metadata": {
        "id": "8P7QQWlj1F6l"
      }
    },
    {
      "cell_type": "markdown",
      "source": [
        "$$<x>=\\int \\psi^{*} \\hat{x} \\psi\\ dx$$\n",
        "\n",
        "$$\\hat{x}=x$$"
      ],
      "metadata": {
        "id": "l2h2o0Ag1Q1_"
      }
    },
    {
      "cell_type": "code",
      "source": [
        "e_x = sp.integrate(sol.rhs * x * sol.rhs, (x, 0, a)).simplify()\n",
        "e_x"
      ],
      "metadata": {
        "colab": {
          "base_uri": "https://localhost:8080/",
          "height": 47
        },
        "id": "KwDp4GgB1oRo",
        "outputId": "d6f97643-c3b0-4d43-c2d9-4daf8fadfb4b"
      },
      "execution_count": 12,
      "outputs": [
        {
          "output_type": "execute_result",
          "data": {
            "text/plain": [
              "a\n",
              "─\n",
              "2"
            ],
            "text/latex": "$\\displaystyle \\frac{a}{2}$"
          },
          "metadata": {},
          "execution_count": 12
        }
      ]
    },
    {
      "cell_type": "code",
      "source": [
        "e_x_2 = sp.integrate(sol.rhs * x**2 * sol.rhs, (x, 0, a)).simplify()\n",
        "e_x_2"
      ],
      "metadata": {
        "colab": {
          "base_uri": "https://localhost:8080/",
          "height": 54
        },
        "id": "GImOhIM82D30",
        "outputId": "107e223b-c7f8-464c-aa55-1e3fe99c9a5c"
      },
      "execution_count": 13,
      "outputs": [
        {
          "output_type": "execute_result",
          "data": {
            "text/plain": [
              " 2       2  \n",
              "a       a   \n",
              "── - ───────\n",
              "3       2  2\n",
              "     2⋅π ⋅n "
            ],
            "text/latex": "$\\displaystyle \\frac{a^{2}}{3} - \\frac{a^{2}}{2 \\pi^{2} n^{2}}$"
          },
          "metadata": {},
          "execution_count": 13
        }
      ]
    },
    {
      "cell_type": "code",
      "source": [
        "var_x = e_x_2 - (e_x)**2\n",
        "var_x.simplify()"
      ],
      "metadata": {
        "colab": {
          "base_uri": "https://localhost:8080/",
          "height": 54
        },
        "id": "qsfEiKzz2QBX",
        "outputId": "6ebeaa7a-4bd5-4f08-88ae-2e323426cd21"
      },
      "execution_count": 15,
      "outputs": [
        {
          "output_type": "execute_result",
          "data": {
            "text/plain": [
              " 2       2  \n",
              "a       a   \n",
              "── - ───────\n",
              "12      2  2\n",
              "     2⋅π ⋅n "
            ],
            "text/latex": "$\\displaystyle \\frac{a^{2}}{12} - \\frac{a^{2}}{2 \\pi^{2} n^{2}}$"
          },
          "metadata": {},
          "execution_count": 15
        }
      ]
    },
    {
      "cell_type": "code",
      "source": [
        "d_x = sp.sqrt(var_x)\n",
        "d_x.simplify()"
      ],
      "metadata": {
        "colab": {
          "base_uri": "https://localhost:8080/",
          "height": 57
        },
        "id": "U-_3AmNy7-1x",
        "outputId": "682617c0-6284-4325-d458-d09d6a201091"
      },
      "execution_count": 21,
      "outputs": [
        {
          "output_type": "execute_result",
          "data": {
            "text/plain": [
              "   ______________    \n",
              "  ╱    2  2       │a│\n",
              "╲╱  3⋅π ⋅n  - 18 ⋅│─│\n",
              "                  │n│\n",
              "─────────────────────\n",
              "         6⋅π         "
            ],
            "text/latex": "$\\displaystyle \\frac{\\sqrt{3 \\pi^{2} n^{2} - 18} \\left|{\\frac{a}{n}}\\right|}{6 \\pi}$"
          },
          "metadata": {},
          "execution_count": 21
        }
      ]
    },
    {
      "cell_type": "markdown",
      "source": [
        "**Odchylenie standardowe pędu**"
      ],
      "metadata": {
        "id": "E0PyRimW2xgt"
      }
    },
    {
      "cell_type": "markdown",
      "source": [
        "$$<p>= \\frac{d<x>}{dt} = \\int \\psi^{*}(-i\\hbar\\frac{∂}{∂x}) \\psi\\ dx$$\n",
        "\n",
        "$$\\hat{p}=-i\\hbar\\frac{∂}{∂x}$$\n",
        "\n",
        "$$<p^2>= \\int \\psi^{*}(-\\hbar^2\\frac{∂^2}{∂x^2}) \\psi\\ dx$$"
      ],
      "metadata": {
        "id": "F7WlDFNT28b7"
      }
    },
    {
      "cell_type": "code",
      "source": [
        "e_p = sp.integrate(sol.rhs * sp.I*h * sol.rhs.diff(x), (x,0,a)).simplify()\n",
        "e_p"
      ],
      "metadata": {
        "colab": {
          "base_uri": "https://localhost:8080/",
          "height": 37
        },
        "id": "695iV1_i6fJ4",
        "outputId": "67ad54dd-18d5-46ca-d0db-e6ae4dc88e6c"
      },
      "execution_count": 16,
      "outputs": [
        {
          "output_type": "execute_result",
          "data": {
            "text/plain": [
              "0"
            ],
            "text/latex": "$\\displaystyle 0$"
          },
          "metadata": {},
          "execution_count": 16
        }
      ]
    },
    {
      "cell_type": "code",
      "source": [
        "e_p_2 = sp.integrate(sol.rhs * (-h**2) * sol.rhs.diff(x,x), (x,0,a)).simplify()\n",
        "e_p_2"
      ],
      "metadata": {
        "colab": {
          "base_uri": "https://localhost:8080/",
          "height": 54
        },
        "id": "co4Dq4rW7M1k",
        "outputId": "d0ec17d3-7f59-47cc-91e5-3172af1da90b"
      },
      "execution_count": 17,
      "outputs": [
        {
          "output_type": "execute_result",
          "data": {
            "text/plain": [
              " 2  2  2\n",
              "π ⋅h̅ ⋅n \n",
              "────────\n",
              "    2   \n",
              "   a    "
            ],
            "text/latex": "$\\displaystyle \\frac{\\pi^{2} \\hbar^{2} n^{2}}{a^{2}}$"
          },
          "metadata": {},
          "execution_count": 17
        }
      ]
    },
    {
      "cell_type": "code",
      "source": [
        "var_p = e_p_2 - (e_p)**2\n",
        "var_p.simplify()"
      ],
      "metadata": {
        "colab": {
          "base_uri": "https://localhost:8080/",
          "height": 54
        },
        "id": "hoPkX8Sq7sIh",
        "outputId": "e6bfd8de-27a4-4355-cf06-09ba942b19ad"
      },
      "execution_count": 18,
      "outputs": [
        {
          "output_type": "execute_result",
          "data": {
            "text/plain": [
              " 2  2  2\n",
              "π ⋅h̅ ⋅n \n",
              "────────\n",
              "    2   \n",
              "   a    "
            ],
            "text/latex": "$\\displaystyle \\frac{\\pi^{2} \\hbar^{2} n^{2}}{a^{2}}$"
          },
          "metadata": {},
          "execution_count": 18
        }
      ]
    },
    {
      "cell_type": "code",
      "source": [
        "d_p = sp.sqrt(var_p)\n",
        "d_p.simplify()"
      ],
      "metadata": {
        "colab": {
          "base_uri": "https://localhost:8080/",
          "height": 48
        },
        "id": "toAqakbm8Mbg",
        "outputId": "25a48eae-5dcf-4829-d3d2-2404faeeeed8"
      },
      "execution_count": 22,
      "outputs": [
        {
          "output_type": "execute_result",
          "data": {
            "text/plain": [
              "    │n│\n",
              "π⋅h̅⋅│─│\n",
              "    │a│"
            ],
            "text/latex": "$\\displaystyle \\pi \\hbar \\left|{\\frac{n}{a}}\\right|$"
          },
          "metadata": {},
          "execution_count": 22
        }
      ]
    },
    {
      "cell_type": "markdown",
      "source": [
        "**Iloczyn odchyleń standardowych**"
      ],
      "metadata": {
        "id": "hgzflUJW8TIY"
      }
    },
    {
      "cell_type": "code",
      "source": [
        "sigma_x_p = d_x * d_p\n",
        "sigma_x_p.simplify()"
      ],
      "metadata": {
        "colab": {
          "base_uri": "https://localhost:8080/",
          "height": 56
        },
        "id": "G9viZ0Z28W2h",
        "outputId": "ef1c7a03-fa65-49ac-834a-cdff7abf1a2c"
      },
      "execution_count": 23,
      "outputs": [
        {
          "output_type": "execute_result",
          "data": {
            "text/plain": [
              "     ______________\n",
              "    ╱    2  2      \n",
              "h̅⋅╲╱  3⋅π ⋅n  - 18 \n",
              "───────────────────\n",
              "         6         "
            ],
            "text/latex": "$\\displaystyle \\frac{\\hbar \\sqrt{3 \\pi^{2} n^{2} - 18}}{6}$"
          },
          "metadata": {},
          "execution_count": 23
        }
      ]
    },
    {
      "cell_type": "markdown",
      "source": [
        "**Podsumowanie**"
      ],
      "metadata": {
        "id": "5yCd4vm68jNK"
      }
    },
    {
      "cell_type": "markdown",
      "source": [
        "Dostaliśmy zależność\n",
        "\n",
        "$$\\frac{\\hbar \\sqrt{3\\pi^2n^2-18}}{6} \\geq \\frac{\\hbar}{2}$$\n",
        "\n",
        "Musimy wyciągnąć $$\\frac{\\hbar}{2}$$ przed pierwiastek, aby sprawdzić jego zawartość i móc dalej prowadzić rozważania\n",
        "\n",
        "Dostajemy następującą postać\n",
        "\n",
        "$$\\frac{\\hbar}{2}\\sqrt{\\frac{\\pi^2n^2}{3}-2}\\geq \\frac{\\hbar}{2} $$\n",
        "\n",
        "Z założeń wiemy, że n jest liczbą naturalną (1, 2, 3, ...).\n",
        "\n",
        "Jeśli nierówność zachodzi dla n = 1, to musi zachodzić dla każdego większego n naturalnego, ponieważ dostaniemy pod pierwiastkiem większą liczbę, więc lewa strona nierówności będzie coraz większa.\n",
        "\n",
        "Dla n = 1\n",
        "$$\\frac{\\hbar}{2}\\sqrt{\\frac{\\pi^2}{3}-2}\\geq \\frac{\\hbar}{2} $$\n",
        "\n",
        "Liczymy wartość pierwiastka"
      ],
      "metadata": {
        "id": "UpFUx2PH8vXp"
      }
    },
    {
      "cell_type": "code",
      "source": [
        "pierwiastek = sp.sqrt((((sp.pi)**2)/3)-2)\n",
        "pierwiastek"
      ],
      "metadata": {
        "colab": {
          "base_uri": "https://localhost:8080/",
          "height": 58
        },
        "id": "7PZ12TuR_oaq",
        "outputId": "9690f806-5874-4e0a-892a-1e64956649de"
      },
      "execution_count": 24,
      "outputs": [
        {
          "output_type": "execute_result",
          "data": {
            "text/plain": [
              "     _________\n",
              "    ╱       2 \n",
              "   ╱       π  \n",
              "  ╱   -2 + ── \n",
              "╲╱         3  "
            ],
            "text/latex": "$\\displaystyle \\sqrt{-2 + \\frac{\\pi^{2}}{3}}$"
          },
          "metadata": {},
          "execution_count": 24
        }
      ]
    },
    {
      "cell_type": "code",
      "source": [
        "wynik = np.sqrt((((np.pi)**2)/3)-2)\n",
        "wynik"
      ],
      "metadata": {
        "colab": {
          "base_uri": "https://localhost:8080/",
          "height": 37
        },
        "id": "j0cRaTFP9LdE",
        "outputId": "58e354e9-6241-4a80-d38f-58632f064a01"
      },
      "execution_count": 27,
      "outputs": [
        {
          "output_type": "execute_result",
          "data": {
            "text/plain": [
              "1.1357236167732239"
            ],
            "text/latex": "$\\displaystyle 1.13572361677322$"
          },
          "metadata": {},
          "execution_count": 27
        }
      ]
    },
    {
      "cell_type": "markdown",
      "source": [
        "Jak widać wartość lewej strony dla n = 1 jest większa od prawej strony\n",
        "\n",
        "To należało udowodnić\n",
        "\n",
        "**Zasada nieoznaczoności Heisenberga jest spełniona dla każdego n naturalnego**"
      ],
      "metadata": {
        "id": "RU6Aq0uHAZX5"
      }
    }
  ]
}